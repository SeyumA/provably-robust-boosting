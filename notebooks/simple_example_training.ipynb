{
  "cells": [
    {
      "cell_type": "markdown",
      "metadata": {
        "pycharm": {}
      },
      "source": "# A simple example how to train provably robust boosted trees."
    },
    {
      "cell_type": "code",
      "execution_count": 1,
      "metadata": {
        "collapsed": true,
        "pycharm": {
          "is_executing": false
        }
      },
      "outputs": [],
      "source": "%load_ext autoreload\n%autoreload 2\nimport os\nos.chdir(\"../\")\nimport numpy as np\nimport data\nfrom tree_ensemble import TreeEnsemble\n"
    },
    {
      "cell_type": "code",
      "execution_count": 8,
      "outputs": [
        {
          "name": "stdout",
          "text": [
            "Iteration: 1, test error: 24.68%, upper bound on robust test error: 32.47%\nIteration: 2, test error: 23.38%, upper bound on robust test error: 32.47%\n",
            "Iteration: 3, test error: 23.38%, upper bound on robust test error: 32.47%\nIteration: 4, test error: 23.38%, upper bound on robust test error: 32.47%\n",
            "Iteration: 5, test error: 24.03%, upper bound on robust test error: 33.12%\nIteration: 6, test error: 24.03%, upper bound on robust test error: 33.12%\n",
            "Iteration: 7, test error: 24.03%, upper bound on robust test error: 33.12%\nIteration: 8, test error: 24.03%, upper bound on robust test error: 33.12%\n",
            "Iteration: 9, test error: 24.03%, upper bound on robust test error: 33.12%\nIteration: 10, test error: 24.03%, upper bound on robust test error: 33.12%\n",
            "Iteration: 11, test error: 24.03%, upper bound on robust test error: 33.12%\nIteration: 12, test error: 24.03%, upper bound on robust test error: 33.12%\n",
            "Iteration: 13, test error: 24.03%, upper bound on robust test error: 33.12%\nIteration: 14, test error: 24.03%, upper bound on robust test error: 33.12%\n",
            "Iteration: 15, test error: 24.03%, upper bound on robust test error: 33.12%\nIteration: 16, test error: 24.03%, upper bound on robust test error: 33.12%\n",
            "Iteration: 17, test error: 24.03%, upper bound on robust test error: 33.12%\nIteration: 18, test error: 24.03%, upper bound on robust test error: 33.12%\n",
            "Iteration: 19, test error: 24.03%, upper bound on robust test error: 33.12%\nIteration: 20, test error: 24.03%, upper bound on robust test error: 33.12%\n"
          ],
          "output_type": "stream"
        }
      ],
      "source": "n_trees \u003d 20  # total number of trees in the ensemble\nmodel \u003d \u0027robust_bound\u0027  # robust tree ensemble\nX_train, y_train, X_test, y_test, eps \u003d data.all_datasets_dict[\u0027diabetes\u0027]()\n\n# initialize a tree ensemble with some hyperparameters\nensemble \u003d TreeEnsemble(weak_learner\u003d\u0027tree\u0027, n_trials_coord\u003dX_train.shape[1], \n                        lr\u003d1.0, min_samples_split\u003d5, min_samples_leaf\u003d10, max_depth\u003d3)\n# initialize gammas, per-example weights which are recalculated each iteration\ngamma \u003d np.ones(X_train.shape[0])\nfor i in range(1, n_trees + 1):\n    # fit a new tree in order to minimize the robust loss of the whole ensemble\n    weak_learner \u003d ensemble.fit_tree(X_train, y_train, gamma, model, eps, depth\u003d1)\n    ensemble.add_weak_learner(weak_learner)\n    ensemble.prune_last_tree(X_train, y_train, eps, model)\n    # calculate per-example weights for the next iteration\n    gamma \u003d np.exp(-ensemble.certify_treewise_bound(X_train, y_train, eps))\n    \n    # track generalization and robustness\n    yf_test \u003d y_test * ensemble.predict(X_test)\n    min_yf_test \u003d ensemble.certify_treewise_bound(X_test, y_test, eps)\n    print(\u0027Iteration: {}, test error: {:.2%}, upper bound on robust test error: {:.2%}\u0027.format(\n        i, np.mean(yf_test \u003c 0.0), np.mean(min_yf_test \u003c 0.0)))\n    ",
      "metadata": {
        "pycharm": {
          "metadata": false,
          "name": "#%%\n",
          "is_executing": false
        }
      }
    },
    {
      "cell_type": "code",
      "execution_count": null,
      "outputs": [],
      "source": "",
      "metadata": {
        "pycharm": {
          "metadata": false,
          "name": "#%%"
        }
      }
    }
  ],
  "metadata": {
    "anaconda-cloud": {},
    "kernelspec": {
      "name": "python3",
      "language": "python",
      "display_name": "Python 3"
    },
    "language_info": {
      "codemirror_mode": {
        "name": "ipython",
        "version": 3
      },
      "file_extension": ".py",
      "mimetype": "text/x-python",
      "name": "python",
      "nbconvert_exporter": "python",
      "pygments_lexer": "ipython3",
      "version": "3.5.4"
    }
  },
  "nbformat": 4,
  "nbformat_minor": 1
}